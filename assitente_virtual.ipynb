{
  "nbformat": 4,
  "nbformat_minor": 0,
  "metadata": {
    "colab": {
      "provenance": []
    },
    "kernelspec": {
      "name": "python3",
      "display_name": "Python 3"
    },
    "language_info": {
      "name": "python"
    }
  },
  "cells": [
    {
      "cell_type": "code",
      "execution_count": 9,
      "metadata": {
        "colab": {
          "base_uri": "https://localhost:8080/"
        },
        "id": "gcRcZ0AcxdbG",
        "outputId": "55bd873c-16ed-461c-ed53-063722ff842a"
      },
      "outputs": [
        {
          "name": "stdout",
          "output_type": "stream",
          "text": [
            "Collecting gTTS\n",
            "  Downloading gTTS-2.5.4-py3-none-any.whl.metadata (4.1 kB)\n",
            "Requirement already satisfied: SpeechRecognition in /usr/local/lib/python3.10/dist-packages (3.13.0)\n",
            "Requirement already satisfied: requests<3,>=2.27 in /usr/local/lib/python3.10/dist-packages (from gTTS) (2.32.3)\n",
            "Requirement already satisfied: click<8.2,>=7.1 in /usr/local/lib/python3.10/dist-packages (from gTTS) (8.1.7)\n",
            "Requirement already satisfied: typing-extensions in /usr/local/lib/python3.10/dist-packages (from SpeechRecognition) (4.12.2)\n",
            "Requirement already satisfied: charset-normalizer<4,>=2 in /usr/local/lib/python3.10/dist-packages (from requests<3,>=2.27->gTTS) (3.4.0)\n",
            "Requirement already satisfied: idna<4,>=2.5 in /usr/local/lib/python3.10/dist-packages (from requests<3,>=2.27->gTTS) (3.10)\n",
            "Requirement already satisfied: urllib3<3,>=1.21.1 in /usr/local/lib/python3.10/dist-packages (from requests<3,>=2.27->gTTS) (2.2.3)\n",
            "Requirement already satisfied: certifi>=2017.4.17 in /usr/local/lib/python3.10/dist-packages (from requests<3,>=2.27->gTTS) (2024.12.14)\n",
            "Downloading gTTS-2.5.4-py3-none-any.whl (29 kB)\n",
            "Installing collected packages: gTTS\n",
            "Successfully installed gTTS-2.5.4\n",
            "Escolha uma opção:\n",
            "1. Testar Text to Speech\n",
            "2. Testar Speech to Text\n",
            "Digite o número da opção desejada: 1\n"
          ]
        }
      ],
      "source": [
        "# Instalar dependências\n",
        "!pip install gTTS SpeechRecognition\n",
        "\n",
        "# Importar bibliotecas necessárias\n",
        "from gtts import gTTS\n",
        "import IPython.display as ipd\n",
        "import speech_recognition as sr\n",
        "\n",
        "# Módulo 1: Text to Speech (Texto para Áudio usando gTTS)\n",
        "def text_to_speech_gtts(text):\n",
        "    tts = gTTS(text=text, lang='pt')\n",
        "    tts.save(\"output.mp3\")\n",
        "    ipd.Audio(\"output.mp3\")  # Reproduz o áudio no Colab\n",
        "\n",
        "# Função de Teste do Text to Speech (gTTS)\n",
        "def test_text_to_speech():\n",
        "    text = \"Olá, como posso te ajudar?\"\n",
        "    text_to_speech_gtts(text)\n",
        "\n",
        "# Módulo 2: Speech to Text (Áudio para Texto)\n",
        "def speech_to_text():\n",
        "    recognizer = sr.Recognizer()\n",
        "    with sr.Microphone() as source:\n",
        "        print(\"Ajustando para o ambiente...\")\n",
        "        recognizer.adjust_for_ambient_noise(source)\n",
        "        print(\"Diga algo...\")\n",
        "        audio = recognizer.listen(source)\n",
        "\n",
        "    try:\n",
        "        print(\"Você disse: \" + recognizer.recognize_google(audio))\n",
        "    except sr.UnknownValueError:\n",
        "        print(\"Não entendi o que você disse.\")\n",
        "    except sr.RequestError:\n",
        "        print(\"Erro ao conectar ao serviço de reconhecimento de fala.\")\n",
        "\n",
        "# Função de Teste do Speech to Text\n",
        "def test_speech_to_text():\n",
        "    print(\"Iniciando reconhecimento de fala...\")\n",
        "    speech_to_text()\n",
        "\n",
        "# Função Principal\n",
        "def main():\n",
        "    print(\"Escolha uma opção:\")\n",
        "    print(\"1. Testar Text to Speech\")\n",
        "    print(\"2. Testar Speech to Text\")\n",
        "\n",
        "    option = input(\"Digite o número da opção desejada: \")\n",
        "\n",
        "    if option == '1':\n",
        "        test_text_to_speech()\n",
        "    elif option == '2':\n",
        "        test_speech_to_text()\n",
        "    else:\n",
        "        print(\"Opção inválida!\")\n",
        "\n",
        "# Executar a função principal\n",
        "main()\n"
      ]
    }
  ]
}