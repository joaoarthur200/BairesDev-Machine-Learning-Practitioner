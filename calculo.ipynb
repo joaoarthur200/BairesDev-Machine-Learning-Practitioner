{
  "nbformat": 4,
  "nbformat_minor": 0,
  "metadata": {
    "colab": {
      "provenance": []
    },
    "kernelspec": {
      "name": "python3",
      "display_name": "Python 3"
    },
    "language_info": {
      "name": "python"
    }
  },
  "cells": [
    {
      "cell_type": "code",
      "execution_count": 1,
      "metadata": {
        "colab": {
          "base_uri": "https://localhost:8080/"
        },
        "id": "XjsTHz2wh-6H",
        "outputId": "b7487423-8719-4a59-fc3a-0eb433f101d9"
      },
      "outputs": [
        {
          "output_type": "stream",
          "name": "stdout",
          "text": [
            "Sensibilidade (Recall): 0.91\n",
            "Especificidade: 0.80\n",
            "Acurácia: 0.86\n",
            "Precisão: 0.83\n",
            "F-Score: 0.87\n"
          ]
        }
      ],
      "source": [
        "def calcular_metricas(vp, vn, fp, fn):\n",
        "    \"\"\"\n",
        "    Calcula as principais métricas de avaliação de aprendizado de máquina a partir de valores VP, VN, FP e FN.\n",
        "\n",
        "    Parâmetros:\n",
        "        vp (int): Verdadeiros Positivos\n",
        "        vn (int): Verdadeiros Negativos\n",
        "        fp (int): Falsos Positivos\n",
        "        fn (int): Falsos Negativos\n",
        "\n",
        "    Retorna:\n",
        "        dict: Um dicionário com as métricas calculadas (Sensibilidade, Especificidade, Acurácia, Precisão, F-score).\n",
        "    \"\"\"\n",
        "    # Cálculo das métricas\n",
        "    try:\n",
        "        sensibilidade = vp / (vp + fn)  # Sensibilidade (Recall)\n",
        "    except ZeroDivisionError:\n",
        "        sensibilidade = 0\n",
        "\n",
        "    try:\n",
        "        especificidade = vn / (fp + vn)  # Especificidade\n",
        "    except ZeroDivisionError:\n",
        "        especificidade = 0\n",
        "\n",
        "    try:\n",
        "        acuracia = (vp + vn) / (vp + vn + fp + fn)  # Acurácia\n",
        "    except ZeroDivisionError:\n",
        "        acuracia = 0\n",
        "\n",
        "    try:\n",
        "        precisao = vp / (vp + fp)  # Precisão\n",
        "    except ZeroDivisionError:\n",
        "        precisao = 0\n",
        "\n",
        "    try:\n",
        "        f_score = 2 * (precisao * sensibilidade) / (precisao + sensibilidade)  # F-score\n",
        "    except ZeroDivisionError:\n",
        "        f_score = 0\n",
        "\n",
        "    # Retornar as métricas em um dicionário\n",
        "    return {\n",
        "        \"Sensibilidade (Recall)\": sensibilidade,\n",
        "        \"Especificidade\": especificidade,\n",
        "        \"Acurácia\": acuracia,\n",
        "        \"Precisão\": precisao,\n",
        "        \"F-Score\": f_score,\n",
        "    }\n",
        "\n",
        "# Exemplo de uso\n",
        "if __name__ == \"__main__\":\n",
        "    # Valores arbitrários de matriz de confusão\n",
        "    vp = 50  # Verdadeiros Positivos\n",
        "    vn = 40  # Verdadeiros Negativos\n",
        "    fp = 10  # Falsos Positivos\n",
        "    fn = 5   # Falsos Negativos\n",
        "\n",
        "    # Calcular métricas\n",
        "    metricas = calcular_metricas(vp, vn, fp, fn)\n",
        "\n",
        "    # Exibir resultados\n",
        "    for metrica, valor in metricas.items():\n",
        "        print(f\"{metrica}: {valor:.2f}\")\n"
      ]
    }
  ]
}